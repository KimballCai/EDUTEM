{
 "cells": [
  {
   "cell_type": "code",
   "execution_count": 1,
   "metadata": {},
   "outputs": [
    {
     "name": "stderr",
     "output_type": "stream",
     "text": [
      "Using TensorFlow backend.\n"
     ]
    }
   ],
   "source": [
    "import tensorflow as tf\n",
    "import os, logging\n",
    "tf.logging.set_verbosity(tf.logging.ERROR)\n",
    "import warnings\n",
    "warnings.filterwarnings(\"ignore\")\n",
    "import numpy as np\n",
    "from datetime import datetime\n",
    "\n",
    "seeds = 1\n",
    "tf.compat.v1.set_random_seed(seeds)\n",
    "np.random.seed(seeds)\n",
    "\n",
    "import keras.metrics\n",
    "from keras import backend as K\n",
    "from keras.callbacks import EarlyStopping, LambdaCallback,ReduceLROnPlateau \n",
    "from keras.optimizers import Adam"
   ]
  },
  {
   "cell_type": "code",
   "execution_count": 2,
   "metadata": {},
   "outputs": [
    {
     "data": {
      "text/plain": [
       "Namespace(application='inhos_mortality', batch_size=64, clip_max=3.0, clip_min=-3.0, compress_dim=4, data_clip=False, data_clip_max=inf, data_clip_min=-inf, dataset='physionet2012', dataset_mode='regular', debug=False, embed_dim=24, epoch=200, ffill=True, ffill_steps=48, folds=[0], gpu='0,1,2', hidden_dim=64, lr=0.001, max_timesteps=48, mode='train', model='ELDA', model_path='', patience=10, random=False, standardization=True, weight_decay=1e-07)"
      ]
     },
     "execution_count": 2,
     "metadata": {},
     "output_type": "execute_result"
    }
   ],
   "source": [
    "# argparser for training the model\n",
    "import argparse\n",
    "\n",
    "def parse_args():\n",
    "    parser = argparse.ArgumentParser(add_help=False)\n",
    "\n",
    "    # dataset\n",
    "    parser.add_argument('--dataset', type=str, default='physionet2012', choices=['physionet2012', 'MIMIC3'],\n",
    "                        help=\"dataset\")\n",
    "    parser.add_argument('--application', type=str, default='inhos_mortality', choices=['inhos_mortality'],\n",
    "                        help=\"dataset\")\n",
    "    parser.add_argument('--folds', type=list, default=[0],\n",
    "                        help='folds id')\n",
    "    parser.add_argument('--ffill', action='store_true',default=True,\n",
    "                        help='data filling， ffill or None')\n",
    "    parser.add_argument('--standardization', action='store_false',default=True,\n",
    "                        help='standardization for the training dataset')\n",
    "    parser.add_argument('--data_clip', action='store', default=False,\n",
    "                        help='data clipping: decide the maximun and minimun value of the training dataset')\n",
    "    parser.add_argument('--data_clip_min', type=float, default=-1*float('inf'),\n",
    "                        help='data clipping: minimun value of the training dataset')\n",
    "    parser.add_argument('--data_clip_max', type=float, default=float('inf'),\n",
    "                        help='data clipping: maximun value of the training dataset')\n",
    "    parser.add_argument('--dataset_mode', type=str, default='regular', choices=['regular'],\n",
    "                        help=\"regular or irregular\")\n",
    "    parser.add_argument('--ffill_steps', type=int, default=48,\n",
    "                        help='data filling steps')\n",
    "    parser.add_argument('--max_timesteps', type=int, default=48,\n",
    "                        help='Time series of at most # time steps are used. Default: 48.')\n",
    "\n",
    "    # model\n",
    "    parser.add_argument('--model', type=str, default='ELDA', choices=['ELDA','ELDA_t','ELDA_f'],\n",
    "                        help=\"model\")\n",
    "    parser.add_argument('--embed_dim', type=int, default=24,\n",
    "                        help=\"embed_dim\")\n",
    "    parser.add_argument('--hidden_dim', type=int, default=64,\n",
    "                        help=\"hidden_dim\")\n",
    "    parser.add_argument('--clip_min', type=float, default=-3.0,\n",
    "                        help=\"clip_min\")\n",
    "    parser.add_argument('--clip_max', type=float, default=3.0,\n",
    "                        help=\"clip_max\")\n",
    "    parser.add_argument('--compress_dim', type=int, default=4,\n",
    "                        help='compress_dim for interaction features')\n",
    "\n",
    "    # mode\n",
    "    parser.add_argument('--mode', type=str, default=\"train\",\n",
    "                        help=\"train or eval\")\n",
    "    parser.add_argument('--model_path', type=str, default=\"\",\n",
    "                        help=\"existing model path\")\n",
    "    parser.add_argument('--debug', action='store_true',default=False,\n",
    "                        help='for backup')\n",
    "    parser.add_argument('--random', action='store_true',default=False,\n",
    "                        help='for backup')\n",
    "\n",
    "    # training configuration\n",
    "    parser.add_argument('--epoch', type=int, default=200,\n",
    "                        help='Number of epochs.')\n",
    "    parser.add_argument('--batch_size', type=int, default=64,\n",
    "                        help='Batch size.')\n",
    "    parser.add_argument('--lr', type=float, default=0.001,\n",
    "                        help='Learning rate.')\n",
    "    parser.add_argument('--weight_decay', type=float, default=1e-7,\n",
    "                        help='decrease overfitting.')\n",
    "    parser.add_argument('--patience', type=int, default=10,\n",
    "                        help='patience for earlystopping.')\n",
    "    parser.add_argument('--gpu', type=str, default=\"0,1,2\",\n",
    "                        help='GPU ids')\n",
    "\n",
    "    return parser.parse_args(args=[])\n",
    "\n",
    "args = parse_args()\n",
    "args"
   ]
  },
  {
   "cell_type": "code",
   "execution_count": 3,
   "metadata": {},
   "outputs": [],
   "source": [
    "# set GPU usage for tensorflow backend\n",
    "if K.backend() == 'tensorflow':\n",
    "    config = tf.compat.v1.ConfigProto()\n",
    "    config.gpu_options.allow_growth = True\n",
    "    tf.compat.v1.keras.backend.set_session(tf.compat.v1.Session(config=config))"
   ]
  },
  {
   "cell_type": "code",
   "execution_count": 4,
   "metadata": {},
   "outputs": [],
   "source": [
    "if args.dataset == \"physionet2012\":\n",
    "    from dataset.physionet2012.DataLoader import physonet2012_DataLoader\n",
    "elif args.dataset == \"MIMIC3\":\n",
    "    from dataset.MIMIC3.DataLoader import MIMIC3_DataLoader\n",
    "else:\n",
    "    raise FileNotFoundError(\"No such dataset: %s\" % args.dataset)"
   ]
  },
  {
   "cell_type": "code",
   "execution_count": 5,
   "metadata": {},
   "outputs": [],
   "source": [
    "# Recoders can record the results of the model in each epoch\n",
    "\n",
    "# the results in the first three lines show the performance of the model which has the best bceloss on the validation set.\n",
    "# the results in the second three lines show the performance of the model which has the best AUC-ROC on the validation set.\n",
    "# the results in the last three lines show the performance of the model which has the best AUC-PR on the validation set.\n",
    "import pandas as pd\n",
    "\n",
    "class Recoder():\n",
    "    def __init__(self,label,features):\n",
    "        self.count = 0\n",
    "        self.features = features\n",
    "        self.data = {\n",
    "            f: [] for f in features\n",
    "        }\n",
    "        self.label = label\n",
    "\n",
    "    def insert(self,result):\n",
    "        self.count += 1\n",
    "        for i in self.features:\n",
    "            self.data[i].append(result[i])\n",
    "        return result\n",
    "\n",
    "    def best(self,feature,mode=max):\n",
    "        best_feature = mode(self.data[feature])\n",
    "        index_best = self.data[feature].index(best_feature)\n",
    "        return index_best\n",
    "\n",
    "    def select_index(self,index):\n",
    "        return {\n",
    "            f:\"%.4f\" % self.data[f][index] for f in self.features\n",
    "        }\n",
    "\n",
    "\n",
    "class Recoders():\n",
    "    def __init__(self,output_path,title,mode=2):\n",
    "        self.features = [\"bceloss\",\"auroc\",\"auprc\",\"acc\"] # ,\"rec1\",\"prec1\"\n",
    "        self.feature_size = len(self.features)\n",
    "        if mode == 3:\n",
    "            self.sets = [\"train\",\"valid\",\"test\"]\n",
    "        elif mode == 2:\n",
    "            self.sets = [\"train\", \"valid\"]\n",
    "        self.recoders = {}\n",
    "        for set in self.sets:\n",
    "            self.recoders[set] = Recoder(set,self.features)\n",
    "        self.count = 0\n",
    "        self.output_path = output_path\n",
    "        self.title = title\n",
    "        self.min_score = 100\n",
    "\n",
    "\n",
    "    def init_score(self,score):\n",
    "        self.min_score = score\n",
    "\n",
    "    def lower_score(self,score,delta=0):\n",
    "        if score < self.min_score+delta:\n",
    "            self.count = 0\n",
    "            self.min_score = score\n",
    "            return True\n",
    "        else:\n",
    "            self.count += 1\n",
    "            return False\n",
    "\n",
    "    def clean(self):\n",
    "        for set in self.sets:\n",
    "            self.recoders[set] = Recoder(set,self.features)\n",
    "        self.count = 0\n",
    "        self.min_score = 100\n",
    "\n",
    "    def insert(self,label,result,verbose=1):\n",
    "        self.recoders[label].insert(result)\n",
    "        if verbose:\n",
    "            log_r = \"[%s] \" % label\n",
    "            for f in self.features:\n",
    "                log_r += \"%s:%.4f \" % (f, result[f])\n",
    "            logging.info(log_r)\n",
    "            # print(log_r)\n",
    "\n",
    "    def record_to_csv(self,i_fold=0):\n",
    "        result = pd.DataFrame()\n",
    "        for roc in ['bceloss','auprc','auroc']:\n",
    "            tem = pd.DataFrame(columns=['Epoch']+self.features,index=self.sets)\n",
    "            if roc == 'bceloss':\n",
    "                func = min\n",
    "            else:\n",
    "                func = max\n",
    "            best_epoch = self.recoders[\"valid\"].best(roc, func)\n",
    "            for set in self.sets:\n",
    "                if set == \"train\":\n",
    "                    tem.loc['train', 'Epoch'] = self.recoders[\"train\"].count\n",
    "                elif set == \"valid\":\n",
    "                    tem.loc['valid', 'Epoch'] = best_epoch+1\n",
    "                elif set == \"test\":\n",
    "                    tem.loc['test', 'Epoch'] = self.recoders[\"test\"].best(roc, func)+1\n",
    "            for dataset in self.sets:\n",
    "                for f in self.features:\n",
    "                    tem.loc[dataset,f] = self.recoders[dataset].select_index(best_epoch)[f]\n",
    "            result = pd.concat([result,tem],0)\n",
    "        logging.info(result)\n",
    "        result.to_csv(self.output_path + self.title+'%d.csv'%i_fold)\n"
   ]
  },
  {
   "cell_type": "code",
   "execution_count": 6,
   "metadata": {},
   "outputs": [],
   "source": [
    "from sklearn import metrics\n",
    "\n",
    "EPS = 1e-10\n",
    "\n",
    "# binary_eval can evaluate binary prediction results\n",
    "def binary_eval(y_true, predictions, verbose=1):\n",
    "    predictions = np.array(predictions)\n",
    "    if len(predictions.shape) == 1:\n",
    "        predictions = np.stack([1 - predictions, predictions]).transpose((1, 0))\n",
    "\n",
    "    cf = metrics.confusion_matrix(y_true, predictions.argmax(axis=1))\n",
    "    if verbose:\n",
    "        logging.info(\"confusion matrix:\")\n",
    "        logging.info(cf)\n",
    "    cf = cf.astype(np.float32)\n",
    "\n",
    "    acc = (cf[0][0] + cf[1][1]) / np.sum(cf)\n",
    "    prec0 = cf[0][0] / (cf[0][0] + cf[1][0] + EPS)\n",
    "    prec1 = cf[1][1] / (cf[1][1] + cf[0][1] + EPS)\n",
    "    rec0 = cf[0][0] / (cf[0][0] + cf[0][1] + EPS)\n",
    "    rec1 = cf[1][1] / (cf[1][1] + cf[1][0] + EPS)\n",
    "    auroc = metrics.roc_auc_score(y_true, predictions[:, 1])\n",
    "\n",
    "    (precisions, recalls, thresholds) = metrics.precision_recall_curve(y_true, predictions[:, 1])\n",
    "    auprc = metrics.auc(recalls, precisions)\n",
    "    minpse = np.max([min(x, y) for (x, y) in zip(precisions, recalls)])\n",
    "\n",
    "    bce = []\n",
    "    for i in range(len(y_true)):\n",
    "        bce.append(-y_true[i] * np.log(predictions[i,1] + EPS) - (1 - y_true[i]) * np.log(1 - predictions[i,1] + EPS))\n",
    "    bceloss = np.mean(bce)\n",
    "\n",
    "    if verbose:\n",
    "        logging.info(\"accuracy = {}\".format(acc))\n",
    "        logging.info(\"precision class 0 = {}\".format(prec0))\n",
    "        logging.info(\"precision class 1 = {}\".format(prec1))\n",
    "        logging.info(\"recall class 0 = {}\".format(rec0))\n",
    "        logging.info(\"recall class 1 = {}\".format(rec1))\n",
    "        logging.info(\"AUC of ROC = {}\".format(auroc))\n",
    "        logging.info(\"AUC of PRC = {}\".format(auprc))\n",
    "        logging.info(\"min(+P, Se) = {}\".format(minpse))\n",
    "        logging.info(\"BCEloss = {}\".format(bceloss))\n",
    "\n",
    "    return {\"acc\": acc,\n",
    "            \"prec0\": prec0,\n",
    "            \"prec1\": prec1,\n",
    "            \"rec0\": rec0,\n",
    "            \"rec1\": rec1,\n",
    "            \"auroc\": auroc,\n",
    "            \"auprc\": auprc,\n",
    "            \"minpse\": minpse,\n",
    "            \"bceloss\": bceloss,\n",
    "            }"
   ]
  },
  {
   "cell_type": "code",
   "execution_count": 7,
   "metadata": {},
   "outputs": [],
   "source": [
    "from keras import backend as K\n",
    "from keras.layers import Activation, Dense, Input\n",
    "from keras.layers.recurrent import GRU\n",
    "from keras.layers import CuDNNGRU\n",
    "from keras.models import load_model, Model\n",
    "from keras.regularizers import l2\n",
    "\n",
    "from model.keras_layers import ELDA_f,ELDA_t\n",
    "\n",
    "\n",
    "def ELDA_net(info_dim,input_dim,output_dim,time_dim,args):\n",
    "    input_info = Input(shape=(info_dim,))\n",
    "    input_stime = Input(shape=(time_dim,))\n",
    "    input_tdata = Input(shape=(time_dim, input_dim))\n",
    "    input_tmask = Input(shape=(time_dim, input_dim))\n",
    "\n",
    "    input_list = [input_info, input_stime, input_tdata, input_tmask]\n",
    "\n",
    "    ELDA_f_layer = ELDA_f(input_dim=input_dim,\n",
    "                         embedding_dim=args.embed_dim,\n",
    "                         time_step=time_dim,\n",
    "                         compress_dim=args.compress_dim,\n",
    "                         clip_min=args.clip_min,\n",
    "                         clip_max=args.clip_max,\n",
    "                         )\n",
    "\n",
    "    ELDA_t_layer = ELDA_t(time_step=time_dim,\n",
    "                         hidden_dim=args.hidden_dim\n",
    "                         )\n",
    "\n",
    "    # an editable version of GRU\n",
    "    # gru_layer = GRU(units=args.hidden_dim,\n",
    "    #                 activation='sigmoid',\n",
    "    #                 return_sequences=True,\n",
    "    #                 # dropout=0.3,\n",
    "    #                 # recurrent_dropout=0.3,\n",
    "    #                 )\n",
    "    \n",
    "    # an uneditable version of GRU (for GPU)\n",
    "    gru_layer =  CuDNNGRU(units=args.hidden_dim,\n",
    "                 return_sequences=True,\n",
    "                 )\n",
    "\n",
    "    x = ELDA_f_layer([input_tdata, input_tmask])\n",
    "    x = gru_layer(x)\n",
    "    x = ELDA_t_layer(x)\n",
    "\n",
    "    x = Dense(units=64, activation='relu',kernel_regularizer=l2(1e-4))(x)\n",
    "    x = Dense(output_dim, activation='sigmoid')(x)\n",
    "    output_list = [x]\n",
    "    model = Model(inputs=input_list, outputs=output_list)\n",
    "    return model\n",
    "\n",
    "\n",
    "def ELDA_t_net(info_dim,input_dim,output_dim,time_dim,args):\n",
    "    input_info = Input(shape=(info_dim,))\n",
    "    input_stime = Input(shape=(time_dim,))\n",
    "    input_tdata = Input(shape=(time_dim, input_dim))\n",
    "    input_tmask = Input(shape=(time_dim, input_dim))\n",
    "\n",
    "    input_list = [input_info, input_stime, input_tdata, input_tmask]\n",
    "\n",
    "    ELDA_t_layer = ELDA_t(time_step=time_dim,\n",
    "                         hidden_dim=args.hidden_dim\n",
    "                         )\n",
    "    # an editable version of GRU\n",
    "    # gru_layer = GRU(units=args.hidden_dim,\n",
    "    #                 activation='sigmoid',\n",
    "    #                 return_sequences=True,\n",
    "    #                 )\n",
    "    \n",
    "    # an uneditable version of GRU (for GPU)\n",
    "    gru_layer =  CuDNNGRU(units=args.hidden_dim,\n",
    "                 return_sequences=True,\n",
    "                 )\n",
    "\n",
    "    x = gru_layer(input_tdata)\n",
    "    x = ELDA_t_layer(x)\n",
    "\n",
    "    x = Dense(output_dim, activation='sigmoid')(x)\n",
    "    output_list = [x]\n",
    "    model = Model(inputs=input_list, outputs=output_list)\n",
    "    return model\n",
    "\n",
    "def ELDA_f_net(info_dim,input_dim,output_dim,time_dim,args):\n",
    "    input_info = Input(shape=(info_dim,))\n",
    "    input_stime = Input(shape=(time_dim,))\n",
    "    input_tdata = Input(shape=(time_dim, input_dim))\n",
    "    input_tmask = Input(shape=(time_dim, input_dim))\n",
    "\n",
    "    input_list = [input_info, input_stime, input_tdata, input_tmask]\n",
    "\n",
    "    ELDA_f_layer = ELDA_f(input_dim=input_dim,\n",
    "                         embedding_dim=args.embed_dim,\n",
    "                         time_step=time_dim,\n",
    "                         compress_dim=args.compress_dim,\n",
    "                         clip_min=args.clip_min,\n",
    "                         clip_max=args.clip_max,\n",
    "                         )\n",
    "    # an editable version of GRU\n",
    "    # gru_layer = GRU(units=args.hidden_dim,\n",
    "    #                 activation='sigmoid',\n",
    "    #                 return_sequences=False,\n",
    "    #                 )\n",
    "    \n",
    "    # an uneditable version of GRU (for GPU)\n",
    "    gru_layer =  CuDNNGRU(units=args.hidden_dim,\n",
    "                 return_sequences=False,\n",
    "                 )\n",
    "\n",
    "    x = ELDA_f_layer([input_tdata, input_tmask])\n",
    "    x = gru_layer(x)\n",
    "\n",
    "    x = Dense(output_dim, activation='sigmoid')(x)\n",
    "    output_list = [x]\n",
    "    model = Model(inputs=input_list, outputs=output_list)\n",
    "    return model"
   ]
  },
  {
   "cell_type": "code",
   "execution_count": 8,
   "metadata": {
    "scrolled": true
   },
   "outputs": [],
   "source": [
    "class main():\n",
    "    def __init__(self):\n",
    "        timestamp = datetime.now().strftime('%Y%m%d%H%M%S')\n",
    "        self.log_path = self.set_log_path(timestamp)\n",
    "\n",
    "        handlers = [logging.FileHandler(self.log_path + 'log_{}.txt'.format(timestamp), mode='w'), logging.StreamHandler()]\n",
    "        logging.basicConfig(level=logging.INFO, datefmt='%m-%d-%y %H:%M', format='%(asctime)s:%(message)s', handlers=handlers)\n",
    "\n",
    "        logging.info('Timestamp: {}'.format(timestamp))\n",
    "        logging.info('Arguments:%s' % args)\n",
    "\n",
    "        self.sets = ['train', 'valid', 'test']\n",
    "        # sets = ['train', 'valid']\n",
    "\n",
    "        self.recoders = Recoders(self.log_path, timestamp, len(self.sets))\n",
    "\n",
    "        for i_fold in args.folds:\n",
    "            print('{}-th fold...'.format(i_fold))\n",
    "            self.dataset = self.load_dataset(i_fold)\n",
    "            self.model = self.load_model()\n",
    "            if args.mode == \"train\":\n",
    "                self.train(i_fold)\n",
    "            self.eval(i_fold)\n",
    "\n",
    "    def set_log_path(self,timestamp):\n",
    "        log_path = os.getcwd() + \"/logs/\"\n",
    "        if not os.path.exists(log_path):\n",
    "            os.mkdir(log_path)\n",
    "\n",
    "        if args.debug:\n",
    "            log_path += \"/%s_%s_debug/\" % (args.model, timestamp)\n",
    "            if not os.path.exists(log_path):\n",
    "                os.mkdir(log_path)\n",
    "            return log_path\n",
    "\n",
    "        log_path += \"/%s/\"% args.dataset\n",
    "        if not os.path.exists(log_path):\n",
    "            os.mkdir(log_path)\n",
    "\n",
    "        log_path += \"/%s/\"% args.application\n",
    "        if not os.path.exists(log_path):\n",
    "            os.mkdir(log_path)\n",
    "\n",
    "        log_path += \"/%s/\"% args.model\n",
    "        if not os.path.exists(log_path):\n",
    "            os.mkdir(log_path)\n",
    "\n",
    "        log_path += \"/%s_%s/\" % (args.model, timestamp)\n",
    "        if args.random:\n",
    "            log_path = log_path[:-1]+\"_random/\"\n",
    "        if not os.path.exists(log_path):\n",
    "            os.mkdir(log_path)\n",
    "        return log_path\n",
    "\n",
    "    def load_dataset(self, i_fold):\n",
    "        logging.info(\"[*] Loading dataset: %s\" % args.dataset)\n",
    "        if args.dataset == \"physionet2012\":\n",
    "            dataset = physonet2012_DataLoader(args=args, fold_id=i_fold, label=args.application, debug=args.debug)\n",
    "        elif args.dataset == \"MIMIC3\":\n",
    "            dataset = MIMIC3_DataLoader(args=args, fold_id=i_fold, label=args.application, debug=args.debug)\n",
    "        else:\n",
    "            raise NameError(args.dataset)\n",
    "\n",
    "        train_len = dataset.get_subset_size(\"train\")\n",
    "        valid_len = dataset.get_subset_size(\"valid\")\n",
    "        if len(self.sets) == 3:\n",
    "            test_len = dataset.get_subset_size(\"test\")\n",
    "        else:\n",
    "            test_len = 0\n",
    "        logging.info(\"train: %d valid: %d test: %d\" % (train_len, valid_len, test_len))\n",
    "        return dataset\n",
    "\n",
    "\n",
    "    def load_model(self):\n",
    "        if args.dataset_mode == \"regular\":\n",
    "            if args.model == \"ELDA\":\n",
    "                model = ELDA_net(info_dim=self.dataset.info_dim, input_dim=self.dataset.input_dim,output_dim=self.dataset.output_dim,\n",
    "                                     time_dim=48, args=args)\n",
    "            elif args.model == \"ELDA_t\":\n",
    "                model = ELDA_t_net(info_dim=self.dataset.info_dim, input_dim=self.dataset.input_dim,output_dim=self.dataset.output_dim,\n",
    "                                     time_dim=48, args=args)\n",
    "            elif args.model == \"ELDA_f\":\n",
    "                model = ELDA_f_net(info_dim=self.dataset.info_dim, input_dim=self.dataset.input_dim,output_dim=self.dataset.output_dim,\n",
    "                                     time_dim=48, args=args)\n",
    "            else:\n",
    "                raise NotImplementedError(\"No such model in regular mode: %s\" % (args.model))\n",
    "\n",
    "        model.summary(print_fn=logging.info)\n",
    "        return model\n",
    "\n",
    "\n",
    "    def eval_epoch(self, epoch, dataset, model, i_fold,save=True):\n",
    "        true_y_list = [\n",
    "            dataset.sub_label(\"train\"),dataset.sub_label(\"valid\")\n",
    "        ]\n",
    "        pred_y_list = [\n",
    "            model.predict_generator(dataset.get_generator(\"train\", shuffle=False, batch_size=args.batch_size, return_whole=False),\n",
    "                                    steps=dataset.sub_steps(\"train\", batch_size=args.batch_size)),\n",
    "            model.predict_generator(dataset.get_generator(\"valid\", shuffle=False, batch_size=args.batch_size, return_whole=False),\n",
    "                                    steps=dataset.sub_steps(\"valid\", batch_size=args.batch_size)),\n",
    "        ]\n",
    "        if len(self.sets) == 3:\n",
    "            true_y_list.append(dataset.sub_label(\"test\"))\n",
    "            pred_y_list.append(model.predict_generator(dataset.get_generator(\"test\", shuffle=False, batch_size=args.batch_size, return_whole=False),\n",
    "                                                       steps=dataset.sub_steps(\"test\", batch_size=args.batch_size)))\n",
    "\n",
    "        logging.info(\"[%s Epoch %d]\" % (args.model, epoch))\n",
    "        for index,dataset in enumerate(self.sets):\n",
    "            result = binary_eval(np.reshape(true_y_list[index],(-1)), np.reshape(pred_y_list[index],(-1)), 0)\n",
    "            self.recoders.insert(dataset, result)\n",
    "            if dataset == \"valid\" and self.recoders.lower_score(result['bceloss']) and save:\n",
    "                logging.info(\"[*] model_%d.h5 saved \"%i_fold)\n",
    "                model.save(self.log_path+'model_%d.h5'%i_fold)\n",
    "\n",
    "\n",
    "\n",
    "    def train(self, i_fold):\n",
    "        optimizer = Adam(learning_rate=args.lr,decay=1e-5)\n",
    "        reduce_lr = ReduceLROnPlateau(monitor='val_loss', factor=0.5, patience=5, mode='auto')\n",
    "        self.model.compile(optimizer=optimizer, loss='binary_crossentropy',metrics=[keras.metrics.BinaryCrossentropy()])\n",
    "\n",
    "        self.model.fit_generator(\n",
    "            generator=self.dataset.get_generator(\"train\", shuffle=True, batch_size=args.batch_size, return_whole=True),\n",
    "            steps_per_epoch=self.dataset.sub_steps(\"train\", batch_size=args.batch_size),\n",
    "            epochs=args.epoch,\n",
    "            verbose=1,\n",
    "            validation_data=self.dataset.get_generator(\"valid\", shuffle=False, batch_size=args.batch_size, return_whole=True),\n",
    "            validation_steps=self.dataset.sub_steps(\"valid\", batch_size=args.batch_size),\n",
    "            callbacks=[\n",
    "                LambdaCallback(on_epoch_end=lambda epoch, logs: self.eval_epoch(epoch + 1, self.dataset, self.model, i_fold)),\n",
    "                EarlyStopping(monitor=\"val_binary_crossentropy\",patience=args.patience,mode=\"min\"),\n",
    "                reduce_lr,\n",
    "            ]\n",
    "        )\n",
    "        self.recoders.record_to_csv(i_fold)\n",
    "        self.recoders.clean()\n",
    "\n",
    "\n",
    "    def eval(self, i_fold):\n",
    "        if args.mode == \"eval\":\n",
    "            if args.model_path != \"\" and os.path.exists(args.model_path):\n",
    "                self.model.load_weights(args.model_path)\n",
    "            else:\n",
    "                raise FileNotFoundError(\"There is no such file for the model: %s\" % args.model_path)\n",
    "\n",
    "        elif args.mode == \"train\":\n",
    "            self.model.load_weights(self.log_path+'model_%d.h5'%i_fold)\n",
    "\n",
    "        logging.info(\"[Eval]\")\n",
    "        self.eval_epoch(0, self.dataset, self.model, i_fold, False)\n"
   ]
  },
  {
   "cell_type": "code",
   "execution_count": 9,
   "metadata": {
    "scrolled": false
   },
   "outputs": [
    {
     "name": "stderr",
     "output_type": "stream",
     "text": [
      "07-23-21 20:38:Timestamp: 20210723203807\n",
      "07-23-21 20:38:Arguments:Namespace(application='inhos_mortality', batch_size=64, clip_max=3.0, clip_min=-3.0, compress_dim=4, data_clip=False, data_clip_max=inf, data_clip_min=-inf, dataset='physionet2012', dataset_mode='regular', debug=False, embed_dim=24, epoch=200, ffill=True, ffill_steps=48, folds=[0], gpu='0,1,2', hidden_dim=64, lr=0.001, max_timesteps=48, mode='train', model='ELDA', model_path='', patience=10, random=False, standardization=True, weight_decay=1e-07)\n",
      "07-23-21 20:38:[*] Loading dataset: physionet2012\n",
      "07-23-21 20:38:fold path: inhos_mortality_folds.npz\n",
      "07-23-21 20:38:train: [150491 143937 148710 140049 156691]\n",
      "  0%|          | 30/9600 [00:00<00:32, 295.92it/s]"
     ]
    },
    {
     "name": "stdout",
     "output_type": "stream",
     "text": [
      "0-th fold...\n"
     ]
    },
    {
     "name": "stderr",
     "output_type": "stream",
     "text": [
      "100%|██████████| 9600/9600 [00:34<00:00, 280.77it/s]\n",
      "100%|██████████| 1200/1200 [00:04<00:00, 283.58it/s]\n",
      "100%|██████████| 1200/1200 [00:04<00:00, 281.71it/s]\n",
      "07-23-21 20:38:train: 9600 valid: 1200 test: 1200\n",
      "07-23-21 20:38:Model: \"model_1\"\n",
      "07-23-21 20:38:__________________________________________________________________________________________________\n",
      "07-23-21 20:38:Layer (type)                    Output Shape         Param #     Connected to                     \n",
      "07-23-21 20:38:==================================================================================================\n",
      "07-23-21 20:38:input_3 (InputLayer)            (None, 48, 37)       0                                            \n",
      "07-23-21 20:38:__________________________________________________________________________________________________\n",
      "07-23-21 20:38:input_4 (InputLayer)            (None, 48, 37)       0                                            \n",
      "07-23-21 20:38:__________________________________________________________________________________________________\n",
      "07-23-21 20:38:elda_f_1 (ELDA_f)               (None, 48, 148)      3781        input_3[0][0]                    \n",
      "07-23-21 20:38:                                                                 input_4[0][0]                    \n",
      "07-23-21 20:38:__________________________________________________________________________________________________\n",
      "07-23-21 20:38:cu_dnngru_1 (CuDNNGRU)          (None, 48, 64)       41088       elda_f_1[0][0]                   \n",
      "07-23-21 20:38:__________________________________________________________________________________________________\n",
      "07-23-21 20:38:elda_t_1 (ELDA_t)               (None, 128)          65          cu_dnngru_1[0][0]                \n",
      "07-23-21 20:38:__________________________________________________________________________________________________\n",
      "07-23-21 20:38:dense_1 (Dense)                 (None, 64)           8256        elda_t_1[0][0]                   \n",
      "07-23-21 20:38:__________________________________________________________________________________________________\n",
      "07-23-21 20:38:dense_2 (Dense)                 (None, 1)            65          dense_1[0][0]                    \n",
      "07-23-21 20:38:==================================================================================================\n",
      "07-23-21 20:38:Total params: 53,255\n",
      "07-23-21 20:38:Trainable params: 53,255\n",
      "07-23-21 20:38:Non-trainable params: 0\n",
      "07-23-21 20:38:__________________________________________________________________________________________________\n"
     ]
    },
    {
     "name": "stdout",
     "output_type": "stream",
     "text": [
      "Epoch 1/200\n",
      "150/150 [==============================] - 8s 54ms/step - loss: 0.4012 - binary_crossentropy: 0.3948 - val_loss: 0.4393 - val_binary_crossentropy: 0.3397\n"
     ]
    },
    {
     "name": "stderr",
     "output_type": "stream",
     "text": [
      "07-23-21 20:39:[ELDA Epoch 1]\n",
      "07-23-21 20:39:[train] bceloss:0.3291 auroc:0.8162 auprc:0.4474 acc:0.8649 \n",
      "07-23-21 20:39:[valid] bceloss:0.3397 auroc:0.7888 auprc:0.4463 acc:0.8675 \n",
      "07-23-21 20:39:[*] model_0.h5 saved \n",
      "07-23-21 20:39:[test] bceloss:0.3347 auroc:0.8080 auprc:0.4327 acc:0.8667 \n"
     ]
    },
    {
     "name": "stdout",
     "output_type": "stream",
     "text": [
      "Epoch 2/200\n",
      "150/150 [==============================] - 7s 44ms/step - loss: 0.3234 - binary_crossentropy: 0.3187 - val_loss: 0.4297 - val_binary_crossentropy: 0.3305\n"
     ]
    },
    {
     "name": "stderr",
     "output_type": "stream",
     "text": [
      "07-23-21 20:39:[ELDA Epoch 2]\n",
      "07-23-21 20:39:[train] bceloss:0.3092 auroc:0.8469 auprc:0.5070 acc:0.8698 \n",
      "07-23-21 20:39:[valid] bceloss:0.3305 auroc:0.8201 auprc:0.4894 acc:0.8658 \n",
      "07-23-21 20:39:[*] model_0.h5 saved \n",
      "07-23-21 20:39:[test] bceloss:0.3145 auroc:0.8463 auprc:0.4803 acc:0.8667 \n"
     ]
    },
    {
     "name": "stdout",
     "output_type": "stream",
     "text": [
      "Epoch 3/200\n",
      "150/150 [==============================] - 7s 44ms/step - loss: 0.3137 - binary_crossentropy: 0.3098 - val_loss: 0.4125 - val_binary_crossentropy: 0.3162\n"
     ]
    },
    {
     "name": "stderr",
     "output_type": "stream",
     "text": [
      "07-23-21 20:39:[ELDA Epoch 3]\n",
      "07-23-21 20:39:[train] bceloss:0.2959 auroc:0.8556 auprc:0.5289 acc:0.8758 \n",
      "07-23-21 20:39:[valid] bceloss:0.3162 auroc:0.8215 auprc:0.4999 acc:0.8758 \n",
      "07-23-21 20:39:[*] model_0.h5 saved \n",
      "07-23-21 20:39:[test] bceloss:0.2934 auroc:0.8612 auprc:0.5142 acc:0.8775 \n"
     ]
    },
    {
     "name": "stdout",
     "output_type": "stream",
     "text": [
      "Epoch 4/200\n",
      "150/150 [==============================] - 7s 44ms/step - loss: 0.3037 - binary_crossentropy: 0.3001 - val_loss: 0.3968 - val_binary_crossentropy: 0.3266\n"
     ]
    },
    {
     "name": "stderr",
     "output_type": "stream",
     "text": [
      "07-23-21 20:39:[ELDA Epoch 4]\n",
      "07-23-21 20:39:[train] bceloss:0.3143 auroc:0.8607 auprc:0.5420 acc:0.8761 \n",
      "07-23-21 20:39:[valid] bceloss:0.3266 auroc:0.8319 auprc:0.5181 acc:0.8717 \n",
      "07-23-21 20:39:[test] bceloss:0.3126 auroc:0.8633 auprc:0.5176 acc:0.8717 \n"
     ]
    },
    {
     "name": "stdout",
     "output_type": "stream",
     "text": [
      "Epoch 5/200\n",
      "150/150 [==============================] - 7s 44ms/step - loss: 0.3013 - binary_crossentropy: 0.2981 - val_loss: 0.3906 - val_binary_crossentropy: 0.3069\n"
     ]
    },
    {
     "name": "stderr",
     "output_type": "stream",
     "text": [
      "07-23-21 20:39:[ELDA Epoch 5]\n",
      "07-23-21 20:39:[train] bceloss:0.2928 auroc:0.8656 auprc:0.5502 acc:0.8767 \n",
      "07-23-21 20:39:[valid] bceloss:0.3069 auroc:0.8406 auprc:0.5315 acc:0.8700 \n",
      "07-23-21 20:39:[*] model_0.h5 saved \n",
      "07-23-21 20:39:[test] bceloss:0.2901 auroc:0.8701 auprc:0.5217 acc:0.8767 \n"
     ]
    },
    {
     "name": "stdout",
     "output_type": "stream",
     "text": [
      "Epoch 6/200\n",
      "150/150 [==============================] - 7s 44ms/step - loss: 0.2974 - binary_crossentropy: 0.2945 - val_loss: 0.3916 - val_binary_crossentropy: 0.3080\n"
     ]
    },
    {
     "name": "stderr",
     "output_type": "stream",
     "text": [
      "07-23-21 20:39:[ELDA Epoch 6]\n",
      "07-23-21 20:39:[train] bceloss:0.2944 auroc:0.8665 auprc:0.5526 acc:0.8704 \n",
      "07-23-21 20:39:[valid] bceloss:0.3080 auroc:0.8431 auprc:0.5400 acc:0.8700 \n",
      "07-23-21 20:39:[test] bceloss:0.2942 auroc:0.8685 auprc:0.5226 acc:0.8750 \n"
     ]
    },
    {
     "name": "stdout",
     "output_type": "stream",
     "text": [
      "Epoch 7/200\n",
      "150/150 [==============================] - 7s 44ms/step - loss: 0.2965 - binary_crossentropy: 0.2939 - val_loss: 0.3977 - val_binary_crossentropy: 0.3031\n"
     ]
    },
    {
     "name": "stderr",
     "output_type": "stream",
     "text": [
      "07-23-21 20:40:[ELDA Epoch 7]\n",
      "07-23-21 20:40:[train] bceloss:0.2857 auroc:0.8679 auprc:0.5585 acc:0.8800 \n",
      "07-23-21 20:40:[valid] bceloss:0.3031 auroc:0.8395 auprc:0.5307 acc:0.8792 \n",
      "07-23-21 20:40:[*] model_0.h5 saved \n",
      "07-23-21 20:40:[test] bceloss:0.2854 auroc:0.8729 auprc:0.5380 acc:0.8742 \n"
     ]
    },
    {
     "name": "stdout",
     "output_type": "stream",
     "text": [
      "Epoch 8/200\n",
      "150/150 [==============================] - 7s 44ms/step - loss: 0.2918 - binary_crossentropy: 0.2893 - val_loss: 0.3922 - val_binary_crossentropy: 0.3010\n"
     ]
    },
    {
     "name": "stderr",
     "output_type": "stream",
     "text": [
      "07-23-21 20:40:[ELDA Epoch 8]\n",
      "07-23-21 20:40:[train] bceloss:0.2834 auroc:0.8706 auprc:0.5663 acc:0.8820 \n",
      "07-23-21 20:40:[valid] bceloss:0.3010 auroc:0.8438 auprc:0.5380 acc:0.8858 \n",
      "07-23-21 20:40:[*] model_0.h5 saved \n",
      "07-23-21 20:40:[test] bceloss:0.2842 auroc:0.8723 auprc:0.5331 acc:0.8725 \n"
     ]
    },
    {
     "name": "stdout",
     "output_type": "stream",
     "text": [
      "Epoch 9/200\n",
      "150/150 [==============================] - 7s 44ms/step - loss: 0.2913 - binary_crossentropy: 0.2890 - val_loss: 0.4221 - val_binary_crossentropy: 0.3096\n"
     ]
    },
    {
     "name": "stderr",
     "output_type": "stream",
     "text": [
      "07-23-21 20:40:[ELDA Epoch 9]\n",
      "07-23-21 20:40:[train] bceloss:0.2893 auroc:0.8719 auprc:0.5704 acc:0.8802 \n",
      "07-23-21 20:40:[valid] bceloss:0.3096 auroc:0.8470 auprc:0.5439 acc:0.8825 \n",
      "07-23-21 20:40:[test] bceloss:0.2918 auroc:0.8752 auprc:0.5437 acc:0.8717 \n"
     ]
    },
    {
     "name": "stdout",
     "output_type": "stream",
     "text": [
      "Epoch 10/200\n",
      "150/150 [==============================] - 7s 44ms/step - loss: 0.2888 - binary_crossentropy: 0.2865 - val_loss: 0.3976 - val_binary_crossentropy: 0.2964\n"
     ]
    },
    {
     "name": "stderr",
     "output_type": "stream",
     "text": [
      "07-23-21 20:40:[ELDA Epoch 10]\n",
      "07-23-21 20:40:[train] bceloss:0.2779 auroc:0.8751 auprc:0.5819 acc:0.8850 \n",
      "07-23-21 20:40:[valid] bceloss:0.2964 auroc:0.8482 auprc:0.5505 acc:0.8875 \n",
      "07-23-21 20:40:[*] model_0.h5 saved \n",
      "07-23-21 20:40:[test] bceloss:0.2800 auroc:0.8777 auprc:0.5487 acc:0.8742 \n"
     ]
    },
    {
     "name": "stdout",
     "output_type": "stream",
     "text": [
      "Epoch 11/200\n",
      "150/150 [==============================] - 7s 44ms/step - loss: 0.2828 - binary_crossentropy: 0.2805 - val_loss: 0.3995 - val_binary_crossentropy: 0.2959\n"
     ]
    },
    {
     "name": "stderr",
     "output_type": "stream",
     "text": [
      "07-23-21 20:40:[ELDA Epoch 11]\n",
      "07-23-21 20:40:[train] bceloss:0.2763 auroc:0.8768 auprc:0.5873 acc:0.8846 \n",
      "07-23-21 20:40:[valid] bceloss:0.2959 auroc:0.8495 auprc:0.5474 acc:0.8858 \n",
      "07-23-21 20:40:[*] model_0.h5 saved \n",
      "07-23-21 20:40:[test] bceloss:0.2837 auroc:0.8754 auprc:0.5411 acc:0.8783 \n"
     ]
    },
    {
     "name": "stdout",
     "output_type": "stream",
     "text": [
      "Epoch 12/200\n",
      "150/150 [==============================] - 7s 44ms/step - loss: 0.2823 - binary_crossentropy: 0.2800 - val_loss: 0.4024 - val_binary_crossentropy: 0.2967\n"
     ]
    },
    {
     "name": "stderr",
     "output_type": "stream",
     "text": [
      "07-23-21 20:40:[ELDA Epoch 12]\n",
      "07-23-21 20:40:[train] bceloss:0.2758 auroc:0.8773 auprc:0.5894 acc:0.8858 \n",
      "07-23-21 20:40:[valid] bceloss:0.2967 auroc:0.8502 auprc:0.5538 acc:0.8833 \n",
      "07-23-21 20:40:[test] bceloss:0.2792 auroc:0.8788 auprc:0.5534 acc:0.8775 \n"
     ]
    },
    {
     "name": "stdout",
     "output_type": "stream",
     "text": [
      "Epoch 13/200\n",
      "150/150 [==============================] - 7s 44ms/step - loss: 0.2809 - binary_crossentropy: 0.2786 - val_loss: 0.3983 - val_binary_crossentropy: 0.2977\n"
     ]
    },
    {
     "name": "stderr",
     "output_type": "stream",
     "text": [
      "07-23-21 20:40:[ELDA Epoch 13]\n",
      "07-23-21 20:40:[train] bceloss:0.2778 auroc:0.8778 auprc:0.5935 acc:0.8821 \n",
      "07-23-21 20:40:[valid] bceloss:0.2977 auroc:0.8500 auprc:0.5496 acc:0.8842 \n",
      "07-23-21 20:40:[test] bceloss:0.2834 auroc:0.8746 auprc:0.5479 acc:0.8775 \n"
     ]
    },
    {
     "name": "stdout",
     "output_type": "stream",
     "text": [
      "Epoch 14/200\n",
      "150/150 [==============================] - 7s 44ms/step - loss: 0.2783 - binary_crossentropy: 0.2760 - val_loss: 0.3865 - val_binary_crossentropy: 0.2981\n"
     ]
    },
    {
     "name": "stderr",
     "output_type": "stream",
     "text": [
      "07-23-21 20:41:[ELDA Epoch 14]\n",
      "07-23-21 20:41:[train] bceloss:0.2792 auroc:0.8790 auprc:0.5967 acc:0.8858 \n",
      "07-23-21 20:41:[valid] bceloss:0.2981 auroc:0.8493 auprc:0.5447 acc:0.8833 \n",
      "07-23-21 20:41:[test] bceloss:0.2846 auroc:0.8757 auprc:0.5475 acc:0.8783 \n"
     ]
    },
    {
     "name": "stdout",
     "output_type": "stream",
     "text": [
      "Epoch 15/200\n",
      "150/150 [==============================] - 7s 44ms/step - loss: 0.2768 - binary_crossentropy: 0.2745 - val_loss: 0.3955 - val_binary_crossentropy: 0.2940\n"
     ]
    },
    {
     "name": "stderr",
     "output_type": "stream",
     "text": [
      "07-23-21 20:41:[ELDA Epoch 15]\n",
      "07-23-21 20:41:[train] bceloss:0.2718 auroc:0.8822 auprc:0.6086 acc:0.8882 \n",
      "07-23-21 20:41:[valid] bceloss:0.2940 auroc:0.8511 auprc:0.5577 acc:0.8892 \n",
      "07-23-21 20:41:[*] model_0.h5 saved \n",
      "07-23-21 20:41:[test] bceloss:0.2780 auroc:0.8788 auprc:0.5590 acc:0.8842 \n"
     ]
    },
    {
     "name": "stdout",
     "output_type": "stream",
     "text": [
      "Epoch 16/200\n",
      "150/150 [==============================] - 7s 44ms/step - loss: 0.2754 - binary_crossentropy: 0.2732 - val_loss: 0.3920 - val_binary_crossentropy: 0.2932\n"
     ]
    },
    {
     "name": "stderr",
     "output_type": "stream",
     "text": [
      "07-23-21 20:41:[ELDA Epoch 16]\n",
      "07-23-21 20:41:[train] bceloss:0.2703 auroc:0.8832 auprc:0.6071 acc:0.8860 \n",
      "07-23-21 20:41:[valid] bceloss:0.2932 auroc:0.8514 auprc:0.5554 acc:0.8825 \n",
      "07-23-21 20:41:[*] model_0.h5 saved \n",
      "07-23-21 20:41:[test] bceloss:0.2752 auroc:0.8832 auprc:0.5675 acc:0.8783 \n"
     ]
    },
    {
     "name": "stdout",
     "output_type": "stream",
     "text": [
      "Epoch 17/200\n",
      "150/150 [==============================] - 7s 44ms/step - loss: 0.2746 - binary_crossentropy: 0.2724 - val_loss: 0.3796 - val_binary_crossentropy: 0.2929\n"
     ]
    },
    {
     "name": "stderr",
     "output_type": "stream",
     "text": [
      "07-23-21 20:41:[ELDA Epoch 17]\n",
      "07-23-21 20:41:[train] bceloss:0.2688 auroc:0.8848 auprc:0.6158 acc:0.8880 \n",
      "07-23-21 20:41:[valid] bceloss:0.2929 auroc:0.8516 auprc:0.5569 acc:0.8858 \n",
      "07-23-21 20:41:[*] model_0.h5 saved \n",
      "07-23-21 20:41:[test] bceloss:0.2758 auroc:0.8842 auprc:0.5651 acc:0.8775 \n"
     ]
    },
    {
     "name": "stdout",
     "output_type": "stream",
     "text": [
      "Epoch 18/200\n",
      "150/150 [==============================] - 7s 44ms/step - loss: 0.2733 - binary_crossentropy: 0.2711 - val_loss: 0.3920 - val_binary_crossentropy: 0.2911\n"
     ]
    },
    {
     "name": "stderr",
     "output_type": "stream",
     "text": [
      "07-23-21 20:41:[ELDA Epoch 18]\n",
      "07-23-21 20:41:[train] bceloss:0.2672 auroc:0.8869 auprc:0.6222 acc:0.8879 \n",
      "07-23-21 20:41:[valid] bceloss:0.2911 auroc:0.8546 auprc:0.5629 acc:0.8900 \n",
      "07-23-21 20:41:[*] model_0.h5 saved \n",
      "07-23-21 20:41:[test] bceloss:0.2740 auroc:0.8849 auprc:0.5705 acc:0.8817 \n"
     ]
    },
    {
     "name": "stdout",
     "output_type": "stream",
     "text": [
      "Epoch 19/200\n",
      "150/150 [==============================] - 7s 44ms/step - loss: 0.2712 - binary_crossentropy: 0.2690 - val_loss: 0.4337 - val_binary_crossentropy: 0.2971\n"
     ]
    },
    {
     "name": "stderr",
     "output_type": "stream",
     "text": [
      "07-23-21 20:41:[ELDA Epoch 19]\n",
      "07-23-21 20:41:[train] bceloss:0.2669 auroc:0.8870 auprc:0.6245 acc:0.8898 \n",
      "07-23-21 20:41:[valid] bceloss:0.2971 auroc:0.8537 auprc:0.5620 acc:0.8867 \n",
      "07-23-21 20:41:[test] bceloss:0.2770 auroc:0.8859 auprc:0.5784 acc:0.8792 \n"
     ]
    },
    {
     "name": "stdout",
     "output_type": "stream",
     "text": [
      "Epoch 20/200\n",
      "150/150 [==============================] - 7s 44ms/step - loss: 0.2717 - binary_crossentropy: 0.2694 - val_loss: 0.3902 - val_binary_crossentropy: 0.2927\n"
     ]
    },
    {
     "name": "stderr",
     "output_type": "stream",
     "text": [
      "07-23-21 20:42:[ELDA Epoch 20]\n",
      "07-23-21 20:42:[train] bceloss:0.2651 auroc:0.8879 auprc:0.6278 acc:0.8894 \n",
      "07-23-21 20:42:[valid] bceloss:0.2927 auroc:0.8534 auprc:0.5543 acc:0.8875 \n",
      "07-23-21 20:42:[test] bceloss:0.2764 auroc:0.8828 auprc:0.5748 acc:0.8767 \n"
     ]
    },
    {
     "name": "stdout",
     "output_type": "stream",
     "text": [
      "Epoch 21/200\n",
      "150/150 [==============================] - 7s 45ms/step - loss: 0.2699 - binary_crossentropy: 0.2676 - val_loss: 0.4151 - val_binary_crossentropy: 0.2969\n"
     ]
    },
    {
     "name": "stderr",
     "output_type": "stream",
     "text": [
      "07-23-21 20:42:[ELDA Epoch 21]\n",
      "07-23-21 20:42:[train] bceloss:0.2647 auroc:0.8900 auprc:0.6347 acc:0.8919 \n",
      "07-23-21 20:42:[valid] bceloss:0.2969 auroc:0.8560 auprc:0.5626 acc:0.8875 \n",
      "07-23-21 20:42:[test] bceloss:0.2806 auroc:0.8844 auprc:0.5770 acc:0.8792 \n"
     ]
    },
    {
     "name": "stdout",
     "output_type": "stream",
     "text": [
      "Epoch 22/200\n",
      "150/150 [==============================] - 7s 44ms/step - loss: 0.2671 - binary_crossentropy: 0.2649 - val_loss: 0.3972 - val_binary_crossentropy: 0.2892\n"
     ]
    },
    {
     "name": "stderr",
     "output_type": "stream",
     "text": [
      "07-23-21 20:42:[ELDA Epoch 22]\n",
      "07-23-21 20:42:[train] bceloss:0.2599 auroc:0.8918 auprc:0.6409 acc:0.8948 \n",
      "07-23-21 20:42:[valid] bceloss:0.2892 auroc:0.8581 auprc:0.5691 acc:0.8908 \n",
      "07-23-21 20:42:[*] model_0.h5 saved \n",
      "07-23-21 20:42:[test] bceloss:0.2735 auroc:0.8855 auprc:0.5754 acc:0.8792 \n"
     ]
    },
    {
     "name": "stdout",
     "output_type": "stream",
     "text": [
      "Epoch 23/200\n",
      "150/150 [==============================] - 7s 44ms/step - loss: 0.2642 - binary_crossentropy: 0.2620 - val_loss: 0.4024 - val_binary_crossentropy: 0.2892\n"
     ]
    },
    {
     "name": "stderr",
     "output_type": "stream",
     "text": [
      "07-23-21 20:42:[ELDA Epoch 23]\n",
      "07-23-21 20:42:[train] bceloss:0.2581 auroc:0.8931 auprc:0.6449 acc:0.8942 \n",
      "07-23-21 20:42:[valid] bceloss:0.2892 auroc:0.8581 auprc:0.5692 acc:0.8908 \n",
      "07-23-21 20:42:[test] bceloss:0.2731 auroc:0.8863 auprc:0.5792 acc:0.8800 \n"
     ]
    },
    {
     "name": "stdout",
     "output_type": "stream",
     "text": [
      "Epoch 24/200\n",
      "150/150 [==============================] - 7s 44ms/step - loss: 0.2624 - binary_crossentropy: 0.2601 - val_loss: 0.4050 - val_binary_crossentropy: 0.2917\n"
     ]
    },
    {
     "name": "stderr",
     "output_type": "stream",
     "text": [
      "07-23-21 20:42:[ELDA Epoch 24]\n",
      "07-23-21 20:42:[train] bceloss:0.2575 auroc:0.8944 auprc:0.6482 acc:0.8930 \n",
      "07-23-21 20:42:[valid] bceloss:0.2917 auroc:0.8569 auprc:0.5633 acc:0.8883 \n",
      "07-23-21 20:42:[test] bceloss:0.2721 auroc:0.8884 auprc:0.5856 acc:0.8800 \n"
     ]
    },
    {
     "name": "stdout",
     "output_type": "stream",
     "text": [
      "Epoch 25/200\n",
      "150/150 [==============================] - 7s 44ms/step - loss: 0.2621 - binary_crossentropy: 0.2599 - val_loss: 0.3973 - val_binary_crossentropy: 0.2904\n"
     ]
    },
    {
     "name": "stderr",
     "output_type": "stream",
     "text": [
      "07-23-21 20:42:[ELDA Epoch 25]\n",
      "07-23-21 20:42:[train] bceloss:0.2558 auroc:0.8951 auprc:0.6515 acc:0.8949 \n",
      "07-23-21 20:42:[valid] bceloss:0.2904 auroc:0.8562 auprc:0.5631 acc:0.8883 \n",
      "07-23-21 20:42:[test] bceloss:0.2716 auroc:0.8876 auprc:0.5840 acc:0.8800 \n"
     ]
    },
    {
     "name": "stdout",
     "output_type": "stream",
     "text": [
      "Epoch 26/200\n",
      "150/150 [==============================] - 7s 44ms/step - loss: 0.2618 - binary_crossentropy: 0.2596 - val_loss: 0.4005 - val_binary_crossentropy: 0.2895\n"
     ]
    },
    {
     "name": "stderr",
     "output_type": "stream",
     "text": [
      "07-23-21 20:43:[ELDA Epoch 26]\n",
      "07-23-21 20:43:[train] bceloss:0.2554 auroc:0.8955 auprc:0.6526 acc:0.8945 \n",
      "07-23-21 20:43:[valid] bceloss:0.2895 auroc:0.8581 auprc:0.5639 acc:0.8858 \n",
      "07-23-21 20:43:[test] bceloss:0.2723 auroc:0.8875 auprc:0.5831 acc:0.8800 \n"
     ]
    },
    {
     "name": "stdout",
     "output_type": "stream",
     "text": [
      "Epoch 27/200\n",
      "150/150 [==============================] - 7s 44ms/step - loss: 0.2605 - binary_crossentropy: 0.2582 - val_loss: 0.3899 - val_binary_crossentropy: 0.2892\n"
     ]
    },
    {
     "name": "stderr",
     "output_type": "stream",
     "text": [
      "07-23-21 20:43:[ELDA Epoch 27]\n",
      "07-23-21 20:43:[train] bceloss:0.2555 auroc:0.8961 auprc:0.6556 acc:0.8947 \n",
      "07-23-21 20:43:[valid] bceloss:0.2892 auroc:0.8575 auprc:0.5681 acc:0.8892 \n",
      "07-23-21 20:43:[*] model_0.h5 saved \n",
      "07-23-21 20:43:[test] bceloss:0.2723 auroc:0.8869 auprc:0.5770 acc:0.8792 \n"
     ]
    },
    {
     "name": "stdout",
     "output_type": "stream",
     "text": [
      "Epoch 28/200\n",
      "150/150 [==============================] - 7s 44ms/step - loss: 0.2584 - binary_crossentropy: 0.2561 - val_loss: 0.3928 - val_binary_crossentropy: 0.2902\n"
     ]
    },
    {
     "name": "stderr",
     "output_type": "stream",
     "text": [
      "07-23-21 20:43:[ELDA Epoch 28]\n",
      "07-23-21 20:43:[train] bceloss:0.2545 auroc:0.8969 auprc:0.6580 acc:0.8956 \n",
      "07-23-21 20:43:[valid] bceloss:0.2902 auroc:0.8578 auprc:0.5668 acc:0.8842 \n",
      "07-23-21 20:43:[test] bceloss:0.2730 auroc:0.8868 auprc:0.5783 acc:0.8792 \n"
     ]
    },
    {
     "name": "stdout",
     "output_type": "stream",
     "text": [
      "Epoch 29/200\n",
      "150/150 [==============================] - 7s 44ms/step - loss: 0.2573 - binary_crossentropy: 0.2550 - val_loss: 0.4052 - val_binary_crossentropy: 0.2921\n"
     ]
    },
    {
     "name": "stderr",
     "output_type": "stream",
     "text": [
      "07-23-21 20:43:[ELDA Epoch 29]\n",
      "07-23-21 20:43:[train] bceloss:0.2528 auroc:0.8975 auprc:0.6592 acc:0.8958 \n",
      "07-23-21 20:43:[valid] bceloss:0.2921 auroc:0.8575 auprc:0.5670 acc:0.8900 \n",
      "07-23-21 20:43:[test] bceloss:0.2736 auroc:0.8875 auprc:0.5831 acc:0.8833 \n"
     ]
    },
    {
     "name": "stdout",
     "output_type": "stream",
     "text": [
      "Epoch 30/200\n",
      "150/150 [==============================] - 7s 45ms/step - loss: 0.2569 - binary_crossentropy: 0.2546 - val_loss: 0.4060 - val_binary_crossentropy: 0.2923\n"
     ]
    },
    {
     "name": "stderr",
     "output_type": "stream",
     "text": [
      "07-23-21 20:43:[ELDA Epoch 30]\n",
      "07-23-21 20:43:[train] bceloss:0.2525 auroc:0.8979 auprc:0.6603 acc:0.8952 \n",
      "07-23-21 20:43:[valid] bceloss:0.2923 auroc:0.8571 auprc:0.5650 acc:0.8892 \n",
      "07-23-21 20:43:[test] bceloss:0.2742 auroc:0.8871 auprc:0.5825 acc:0.8842 \n"
     ]
    },
    {
     "name": "stdout",
     "output_type": "stream",
     "text": [
      "Epoch 31/200\n",
      "150/150 [==============================] - 7s 45ms/step - loss: 0.2559 - binary_crossentropy: 0.2536 - val_loss: 0.4108 - val_binary_crossentropy: 0.2922\n"
     ]
    },
    {
     "name": "stderr",
     "output_type": "stream",
     "text": [
      "07-23-21 20:43:[ELDA Epoch 31]\n",
      "07-23-21 20:43:[train] bceloss:0.2517 auroc:0.8981 auprc:0.6621 acc:0.8960 \n",
      "07-23-21 20:43:[valid] bceloss:0.2922 auroc:0.8565 auprc:0.5652 acc:0.8850 \n",
      "07-23-21 20:43:[test] bceloss:0.2726 auroc:0.8877 auprc:0.5816 acc:0.8817 \n"
     ]
    },
    {
     "name": "stdout",
     "output_type": "stream",
     "text": [
      "Epoch 32/200\n",
      "150/150 [==============================] - 7s 45ms/step - loss: 0.2559 - binary_crossentropy: 0.2536 - val_loss: 0.4048 - val_binary_crossentropy: 0.2923\n"
     ]
    },
    {
     "name": "stderr",
     "output_type": "stream",
     "text": [
      "07-23-21 20:43:[ELDA Epoch 32]\n",
      "07-23-21 20:43:[train] bceloss:0.2517 auroc:0.8984 auprc:0.6621 acc:0.8967 \n",
      "07-23-21 20:43:[valid] bceloss:0.2923 auroc:0.8576 auprc:0.5678 acc:0.8900 \n",
      "07-23-21 20:43:[test] bceloss:0.2745 auroc:0.8870 auprc:0.5786 acc:0.8808 \n"
     ]
    },
    {
     "name": "stdout",
     "output_type": "stream",
     "text": [
      "Epoch 33/200\n",
      "150/150 [==============================] - 7s 45ms/step - loss: 0.2542 - binary_crossentropy: 0.2519 - val_loss: 0.4038 - val_binary_crossentropy: 0.2922\n"
     ]
    },
    {
     "name": "stderr",
     "output_type": "stream",
     "text": [
      "07-23-21 20:44:[ELDA Epoch 33]\n",
      "07-23-21 20:44:[train] bceloss:0.2509 auroc:0.8989 auprc:0.6639 acc:0.8961 \n",
      "07-23-21 20:44:[valid] bceloss:0.2922 auroc:0.8564 auprc:0.5619 acc:0.8858 \n",
      "07-23-21 20:44:[test] bceloss:0.2738 auroc:0.8868 auprc:0.5810 acc:0.8833 \n"
     ]
    },
    {
     "name": "stdout",
     "output_type": "stream",
     "text": [
      "Epoch 34/200\n",
      "150/150 [==============================] - 7s 44ms/step - loss: 0.2539 - binary_crossentropy: 0.2516 - val_loss: 0.4026 - val_binary_crossentropy: 0.2922\n"
     ]
    },
    {
     "name": "stderr",
     "output_type": "stream",
     "text": [
      "07-23-21 20:44:[ELDA Epoch 34]\n",
      "07-23-21 20:44:[train] bceloss:0.2513 auroc:0.8991 auprc:0.6648 acc:0.8968 \n",
      "07-23-21 20:44:[valid] bceloss:0.2922 auroc:0.8559 auprc:0.5621 acc:0.8842 \n",
      "07-23-21 20:44:[test] bceloss:0.2738 auroc:0.8865 auprc:0.5785 acc:0.8808 \n"
     ]
    },
    {
     "name": "stdout",
     "output_type": "stream",
     "text": [
      "Epoch 35/200\n",
      "150/150 [==============================] - 7s 44ms/step - loss: 0.2539 - binary_crossentropy: 0.2516 - val_loss: 0.4040 - val_binary_crossentropy: 0.2923\n"
     ]
    },
    {
     "name": "stderr",
     "output_type": "stream",
     "text": [
      "07-23-21 20:44:[ELDA Epoch 35]\n",
      "07-23-21 20:44:[train] bceloss:0.2503 auroc:0.8996 auprc:0.6660 acc:0.8976 \n",
      "07-23-21 20:44:[valid] bceloss:0.2923 auroc:0.8563 auprc:0.5631 acc:0.8867 \n",
      "07-23-21 20:44:[test] bceloss:0.2736 auroc:0.8867 auprc:0.5784 acc:0.8833 \n"
     ]
    },
    {
     "name": "stdout",
     "output_type": "stream",
     "text": [
      "Epoch 36/200\n",
      "150/150 [==============================] - 7s 44ms/step - loss: 0.2535 - binary_crossentropy: 0.2512 - val_loss: 0.4049 - val_binary_crossentropy: 0.2923\n"
     ]
    },
    {
     "name": "stderr",
     "output_type": "stream",
     "text": [
      "07-23-21 20:44:[ELDA Epoch 36]\n",
      "07-23-21 20:44:[train] bceloss:0.2501 auroc:0.8998 auprc:0.6671 acc:0.8976 \n",
      "07-23-21 20:44:[valid] bceloss:0.2923 auroc:0.8556 auprc:0.5612 acc:0.8867 \n",
      "07-23-21 20:44:[test] bceloss:0.2729 auroc:0.8867 auprc:0.5780 acc:0.8808 \n"
     ]
    },
    {
     "name": "stdout",
     "output_type": "stream",
     "text": [
      "Epoch 37/200\n",
      "150/150 [==============================] - 7s 44ms/step - loss: 0.2531 - binary_crossentropy: 0.2509 - val_loss: 0.4110 - val_binary_crossentropy: 0.2935\n"
     ]
    },
    {
     "name": "stderr",
     "output_type": "stream",
     "text": [
      "07-23-21 20:44:[ELDA Epoch 37]\n",
      "07-23-21 20:44:[train] bceloss:0.2498 auroc:0.8999 auprc:0.6669 acc:0.8968 \n",
      "07-23-21 20:44:[valid] bceloss:0.2935 auroc:0.8562 auprc:0.5649 acc:0.8850 \n",
      "07-23-21 20:44:[test] bceloss:0.2741 auroc:0.8873 auprc:0.5798 acc:0.8825 \n",
      "07-23-21 20:44:      Epoch bceloss   auroc   auprc     acc\n",
      "train    37  0.2555  0.8961  0.6556  0.8947\n",
      "valid    27  0.2892  0.8575  0.5681  0.8892\n",
      "test     25  0.2723  0.8869  0.5770  0.8792\n",
      "train    37  0.2581  0.8931  0.6449  0.8942\n",
      "valid    23  0.2892  0.8581  0.5692  0.8908\n",
      "test     24  0.2731  0.8863  0.5792  0.8800\n",
      "train    37  0.2599  0.8918  0.6409  0.8948\n",
      "valid    22  0.2892  0.8581  0.5691  0.8908\n",
      "test     24  0.2735  0.8855  0.5754  0.8792\n",
      "07-23-21 20:44:[Eval]\n",
      "07-23-21 20:44:[ELDA Epoch 0]\n",
      "07-23-21 20:44:[train] bceloss:0.2555 auroc:0.8961 auprc:0.6556 acc:0.8947 \n",
      "07-23-21 20:44:[valid] bceloss:0.2892 auroc:0.8575 auprc:0.5681 acc:0.8892 \n",
      "07-23-21 20:44:[test] bceloss:0.2723 auroc:0.8869 auprc:0.5770 acc:0.8792 \n"
     ]
    },
    {
     "data": {
      "text/plain": [
       "<__main__.main at 0x7f56000444a8>"
      ]
     },
     "execution_count": 9,
     "metadata": {},
     "output_type": "execute_result"
    }
   ],
   "source": [
    "main()"
   ]
  },
  {
   "cell_type": "code",
   "execution_count": null,
   "metadata": {},
   "outputs": [],
   "source": [
    "\n",
    "                        "
   ]
  }
 ],
 "metadata": {
  "kernelspec": {
   "display_name": "bert",
   "language": "python",
   "name": "bert"
  },
  "language_info": {
   "codemirror_mode": {
    "name": "ipython",
    "version": 3
   },
   "file_extension": ".py",
   "mimetype": "text/x-python",
   "name": "python",
   "nbconvert_exporter": "python",
   "pygments_lexer": "ipython3",
   "version": "3.6.10"
  }
 },
 "nbformat": 4,
 "nbformat_minor": 4
}
